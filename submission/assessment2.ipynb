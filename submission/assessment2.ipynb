{
  "nbformat": 4,
  "nbformat_minor": 0,
  "metadata": {
    "colab": {
      "provenance": [],
      "authorship_tag": "ABX9TyNGEaq1qPV2FOv3PKTqAd3T",
      "include_colab_link": true
    },
    "kernelspec": {
      "name": "python3",
      "display_name": "Python 3"
    },
    "language_info": {
      "name": "python"
    }
  },
  "cells": [
    {
      "cell_type": "markdown",
      "metadata": {
        "id": "view-in-github",
        "colab_type": "text"
      },
      "source": [
        "<a href=\"https://colab.research.google.com/github/Nishimura35/ISYS5002_Assignment2/blob/main/submission/assessment2.ipynb\" target=\"_parent\"><img src=\"https://colab.research.google.com/assets/colab-badge.svg\" alt=\"Open In Colab\"/></a>"
      ]
    },
    {
      "cell_type": "code",
      "execution_count": null,
      "metadata": {
        "id": "_yBA7CfqmpQd"
      },
      "outputs": [],
      "source": [
        "# Setup and Configuration\n",
        "\n",
        "\n",
        "\n",
        "# Weather Data Functions\n",
        "\n",
        "\n",
        "\n",
        "# Visualisation Functions\n",
        "\n",
        "\n",
        "\n",
        "# Natural Language Processing\n",
        "\n",
        "\n",
        "\n",
        "# User Interface\n",
        "\n",
        "\n",
        "\n",
        "# Main Application Logic\n",
        "\n",
        "\n",
        "\n",
        "# Testing and Examples\n",
        "\n"
      ]
    }
  ]
}